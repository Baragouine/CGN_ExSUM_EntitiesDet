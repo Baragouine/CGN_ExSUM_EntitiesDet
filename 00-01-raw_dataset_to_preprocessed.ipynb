{
 "cells": [
  {
   "cell_type": "code",
   "execution_count": 1,
   "metadata": {},
   "outputs": [],
   "source": [
    "import pandas as pd\n",
    "import numpy as np\n",
    "import re\n",
    "from utils.tokenize_text import tokenize_text\n",
    "from rouge_score import rouge_scorer\n",
    "from nltk.tokenize import LineTokenizer, sent_tokenize, word_tokenize\n",
    "from nltk.corpus import stopwords\n",
    "from nltk.stem.porter import PorterStemmer"
   ]
  },
  {
   "cell_type": "code",
   "execution_count": 2,
   "metadata": {},
   "outputs": [],
   "source": [
    "# Load dataset\n",
    "df = pd.read_json(\"./data/wiki_geo.json\").iloc[:1000]"
   ]
  },
  {
   "cell_type": "code",
   "execution_count": 3,
   "metadata": {},
   "outputs": [],
   "source": [
    "# remove None\n",
    "df.fillna(value=np.nan, inplace=True)\n",
    "df.dropna(inplace=True)"
   ]
  },
  {
   "cell_type": "code",
   "execution_count": 4,
   "metadata": {},
   "outputs": [
    {
     "data": {
      "text/html": [
       "<div>\n",
       "<style scoped>\n",
       "    .dataframe tbody tr th:only-of-type {\n",
       "        vertical-align: middle;\n",
       "    }\n",
       "\n",
       "    .dataframe tbody tr th {\n",
       "        vertical-align: top;\n",
       "    }\n",
       "\n",
       "    .dataframe thead th {\n",
       "        text-align: right;\n",
       "    }\n",
       "</style>\n",
       "<table border=\"1\" class=\"dataframe\">\n",
       "  <thead>\n",
       "    <tr style=\"text-align: right;\">\n",
       "      <th></th>\n",
       "      <th>categories</th>\n",
       "      <th>titles</th>\n",
       "      <th>summaries</th>\n",
       "      <th>contents</th>\n",
       "      <th>entities</th>\n",
       "    </tr>\n",
       "  </thead>\n",
       "  <tbody>\n",
       "    <tr>\n",
       "      <th>0</th>\n",
       "      <td>géographie générale</td>\n",
       "      <td>Géographie</td>\n",
       "      <td>La géographie (du grec ancien γεωγραφία / geōg...</td>\n",
       "      <td>La géographie (du grec ancien γεωγραφία / geōg...</td>\n",
       "      <td>[Alain Barré, Alphanumérique, American Geograp...</td>\n",
       "    </tr>\n",
       "  </tbody>\n",
       "</table>\n",
       "</div>"
      ],
      "text/plain": [
       "            categories      titles  \\\n",
       "0  géographie générale  Géographie   \n",
       "\n",
       "                                           summaries  \\\n",
       "0  La géographie (du grec ancien γεωγραφία / geōg...   \n",
       "\n",
       "                                            contents  \\\n",
       "0  La géographie (du grec ancien γεωγραφία / geōg...   \n",
       "\n",
       "                                            entities  \n",
       "0  [Alain Barré, Alphanumérique, American Geograp...  "
      ]
     },
     "execution_count": 4,
     "metadata": {},
     "output_type": "execute_result"
    }
   ],
   "source": [
    "# Print first line\n",
    "df.head(1)"
   ]
  },
  {
   "cell_type": "code",
   "execution_count": 5,
   "metadata": {},
   "outputs": [
    {
     "data": {
      "text/plain": [
       "(436, 5)"
      ]
     },
     "execution_count": 5,
     "metadata": {},
     "output_type": "execute_result"
    }
   ],
   "source": [
    "# Articles number\n",
    "df.shape"
   ]
  },
  {
   "cell_type": "code",
   "execution_count": 6,
   "metadata": {},
   "outputs": [],
   "source": [
    "END_OF_ARTICLES = [\"== Références ==\", \"== Voir aussi ==\", \"== Liens externes ==\"]"
   ]
  },
  {
   "cell_type": "code",
   "execution_count": 7,
   "metadata": {},
   "outputs": [],
   "source": [
    "# List chapter tags\n",
    "def ls_chapter_tags(text, regex=r'^===* .* =*==$'):\n",
    "  lines = text.split('\\n')\n",
    "  return [line for line in lines if re.match(regex, line)]\n",
    "  "
   ]
  },
  {
   "cell_type": "code",
   "execution_count": 8,
   "metadata": {},
   "outputs": [],
   "source": [
    "# Return true if tags is present in the article\n",
    "def tags_are_present_in_article(text, tags):\n",
    "  lines = text.split('\\n')\n",
    "  lines = [line.lower() for line in lines]\n",
    "  for tag in tags:\n",
    "    if tag.lower() in lines:\n",
    "      return True\n",
    "  return False"
   ]
  },
  {
   "cell_type": "code",
   "execution_count": 9,
   "metadata": {},
   "outputs": [],
   "source": [
    "def index_of_tag_is_in_article(lines, tags):\n",
    "  for i in range(len(lines)):\n",
    "    for tag in tags:\n",
    "      if tag.lower() == lines[i].lower():\n",
    "        return i\n",
    "  return None\n",
    "\n",
    "# Return indices of tags\n",
    "def trunc_article(lines, tags):\n",
    "  idx = index_of_tag_is_in_article(lines, tags)\n",
    "  if idx is not None:\n",
    "    lines = lines[:idx]\n",
    "  return lines"
   ]
  },
  {
   "cell_type": "code",
   "execution_count": 10,
   "metadata": {},
   "outputs": [],
   "source": [
    "# get text flatted of article\n",
    "def flat_article(content, summary, regex_tags=r'^===* .* =*==$'):\n",
    "  # remove summary\n",
    "  content = content[len(summary):]\n",
    "  # split\n",
    "  lines = content.split('\\n')\n",
    "  # trunc\n",
    "  lines = trunc_article(lines, END_OF_ARTICLES)\n",
    "  # remove tags\n",
    "  lines = [line for line in lines if not re.match(regex_tags, line)]\n",
    "  # merge string\n",
    "  text = \"\\n\".join(lines)\n",
    "  return text"
   ]
  },
  {
   "cell_type": "code",
   "execution_count": 11,
   "metadata": {},
   "outputs": [],
   "source": [
    "# return the content of an article without summary and footer\n",
    "def content_article(content, summary):\n",
    "  # remove summary\n",
    "  content = content[len(summary):]\n",
    "  # split\n",
    "  lines = content.split('\\n')\n",
    "  # trunc\n",
    "  lines = trunc_article(lines, END_OF_ARTICLES)\n",
    "  # merge string\n",
    "  text = \"\\n\".join(lines)\n",
    "  return text"
   ]
  },
  {
   "cell_type": "code",
   "execution_count": 12,
   "metadata": {},
   "outputs": [],
   "source": [
    "# extract contents\n",
    "articles_flat = [flat_article(df.iloc[i][\"contents\"], df.iloc[i][\"summaries\"]) for i in range(df.shape[0])]\n",
    "trunc_contents = [content_article(df.iloc[i][\"contents\"], df.iloc[i][\"summaries\"]) for i in range(df.shape[0])]"
   ]
  },
  {
   "cell_type": "code",
   "execution_count": 13,
   "metadata": {},
   "outputs": [],
   "source": [
    "# add to dataframe\n",
    "df[\"flat_contents\"] = articles_flat\n",
    "df[\"trunc_contents\"] = trunc_contents"
   ]
  },
  {
   "cell_type": "code",
   "execution_count": 14,
   "metadata": {},
   "outputs": [],
   "source": [
    "# Tokenize flat contents\n",
    "tokenized_flat_contents = [tokenize_text(df.iloc[i][\"flat_contents\"]) for i in range(df.shape[0])]"
   ]
  },
  {
   "cell_type": "code",
   "execution_count": 15,
   "metadata": {},
   "outputs": [],
   "source": [
    "labels_entities = [[[0 for _ in line] for line in article] for article in tokenized_flat_contents]"
   ]
  },
  {
   "cell_type": "code",
   "execution_count": 16,
   "metadata": {},
   "outputs": [
    {
     "name": "stdout",
     "output_type": "stream",
     "text": [
      "labels_entities: 1/436\n",
      "labels_entities: 101/436\n",
      "labels_entities: 201/436\n",
      "labels_entities: 301/436\n",
      "labels_entities: 401/436\n"
     ]
    }
   ],
   "source": [
    "# labelize token\n",
    "for article in range(len(tokenized_flat_contents)):\n",
    "  entities = df.iloc[article][\"entities\"]\n",
    "  entities = sorted(entities, key=len, reverse=True)\n",
    "  for entity in entities:\n",
    "    entity_splited = entity.lower().split(' ')\n",
    "    zeros = [0 for _ in entity_splited]\n",
    "    for y, line in enumerate(tokenized_flat_contents[article]):\n",
    "      for x, word in enumerate(line):\n",
    "        if len(entity_splited) == len(line[x:x+len(entity_splited)]) and entity_splited == line[x:x+len(entity_splited)] and labels_entities[article][y][x:x+len(entity_splited)] == zeros:\n",
    "          if len(entity_splited) >= 2:\n",
    "            for i in range(len(entity_splited)):\n",
    "              labels_entities[article][y][x+i] = 'C'\n",
    "            labels_entities[article][y][x] = 'L'\n",
    "            labels_entities[article][y][x+len(entity_splited) - 2] = 'R'\n",
    "          else:\n",
    "            labels_entities[article][y][x] = 'E'\n",
    "\n",
    "  if article % 100 == 0:\n",
    "    print(\"labels_entities: {}/{}\".format(article+1, len(tokenized_flat_contents)))"
   ]
  },
  {
   "cell_type": "code",
   "execution_count": 17,
   "metadata": {},
   "outputs": [],
   "source": [
    "df[\"labels_entities\"] = labels_entities"
   ]
  },
  {
   "cell_type": "code",
   "execution_count": 18,
   "metadata": {},
   "outputs": [],
   "source": [
    "# labelize sentence\n",
    "scorer = rouge_scorer.RougeScorer(['rouge1', 'rouge2', 'rougeL'], use_stemmer=True)\n",
    "\n",
    "def compute_labels_doc(doc, summary, is_sep_n = False):\n",
    "  labels = []\n",
    "  s = []\n",
    "  # split doc\n",
    "  if is_sep_n:\n",
    "    nltk_line_tokenizer = LineTokenizer()\n",
    "    s = nltk_line_tokenizer.tokenize(doc)\n",
    "  else:\n",
    "    s = sent_tokenize(doc, language=\"french\")\n",
    "  # compute labels\n",
    "  if (len(s) > 0):\n",
    "    a = \"\"\n",
    "    score = scorer.score(a, summary)\n",
    "    for i in range(len(s)):\n",
    "      current_score = scorer.score(a + s[i] + \".\", summary)\n",
    "      if  current_score[\"rouge1\"].fmeasure > score[\"rouge1\"].fmeasure or \\\n",
    "        current_score[\"rouge2\"].fmeasure > score[\"rouge2\"].fmeasure or \\\n",
    "        current_score[\"rougeL\"].fmeasure > score[\"rougeL\"].fmeasure:\n",
    "        score = current_score\n",
    "        a = a + s[i] + \".\"\n",
    "        labels.append(1)\n",
    "      else:\n",
    "        labels.append(0)\n",
    "\n",
    "  return labels"
   ]
  },
  {
   "cell_type": "code",
   "execution_count": 20,
   "metadata": {},
   "outputs": [
    {
     "name": "stdout",
     "output_type": "stream",
     "text": [
      "labels_sentences: 1/436\n",
      "labels_sentences: 11/436\n",
      "labels_sentences: 21/436\n",
      "labels_sentences: 31/436\n",
      "labels_sentences: 41/436\n"
     ]
    }
   ],
   "source": [
    "labels_sentences = []\n",
    "\n",
    "for i in range(df.shape[0]):\n",
    "    labels_sentences.append(compute_labels_doc(df.iloc[i][\"flat_contents\"], df.iloc[i][\"summaries\"], is_sep_n=False))\n",
    "\n",
    "    if i % 10 == 0:\n",
    "        print(\"labels_sentences: {}/{}\".format(len(labels_sentences), df.shape[0]))"
   ]
  },
  {
   "cell_type": "code",
   "execution_count": null,
   "metadata": {},
   "outputs": [],
   "source": [
    "df[\"labels_sentences\"] = labels_sentences"
   ]
  },
  {
   "cell_type": "code",
   "execution_count": null,
   "metadata": {},
   "outputs": [],
   "source": [
    "# save to json\n",
    "df.to_json(\"./data/wiki_geo_preprocessed.json\")"
   ]
  },
  {
   "cell_type": "code",
   "execution_count": null,
   "metadata": {},
   "outputs": [
    {
     "data": {
      "text/html": [
       "<div>\n",
       "<style scoped>\n",
       "    .dataframe tbody tr th:only-of-type {\n",
       "        vertical-align: middle;\n",
       "    }\n",
       "\n",
       "    .dataframe tbody tr th {\n",
       "        vertical-align: top;\n",
       "    }\n",
       "\n",
       "    .dataframe thead th {\n",
       "        text-align: right;\n",
       "    }\n",
       "</style>\n",
       "<table border=\"1\" class=\"dataframe\">\n",
       "  <thead>\n",
       "    <tr style=\"text-align: right;\">\n",
       "      <th></th>\n",
       "      <th>categories</th>\n",
       "      <th>titles</th>\n",
       "      <th>summaries</th>\n",
       "      <th>contents</th>\n",
       "      <th>entities</th>\n",
       "      <th>flat_contents</th>\n",
       "      <th>trunc_contents</th>\n",
       "      <th>labels_entities</th>\n",
       "      <th>labels_sentences</th>\n",
       "    </tr>\n",
       "  </thead>\n",
       "  <tbody>\n",
       "    <tr>\n",
       "      <th>0</th>\n",
       "      <td>géographie générale</td>\n",
       "      <td>Géographie</td>\n",
       "      <td>La géographie (du grec ancien γεωγραφία – geog...</td>\n",
       "      <td>La géographie (du grec ancien γεωγραφία – geog...</td>\n",
       "      <td>[Alain Barré, Alphanumérique, American Geograp...</td>\n",
       "      <td>\\n\\n\\n\\nLa première personne à utiliser le mot...</td>\n",
       "      <td>\\n\\n\\n== Évolution et étendue de la notion de ...</td>\n",
       "      <td>[[0, 0, 0, 0, 0, 0, 0, 0, 0, 0, 0, E, 0, 0], [...</td>\n",
       "      <td>[1, 1, 1, 1, 1, 1, 1, 1, 0, 1, 1, 1, 1, 1, 0, ...</td>\n",
       "    </tr>\n",
       "    <tr>\n",
       "      <th>1</th>\n",
       "      <td>géographie générale</td>\n",
       "      <td>Épistémologie de la géographie</td>\n",
       "      <td>Cet article traite de l'épistémologie de la gé...</td>\n",
       "      <td>Cet article traite de l'épistémologie de la gé...</td>\n",
       "      <td>[Aménagement du territoire, Analyse spatiale, ...</td>\n",
       "      <td>\\n\\n\\nLa géographie classique française est ég...</td>\n",
       "      <td>\\n\\n\\n== La Géographie vidalienne ou géographi...</td>\n",
       "      <td>[[0, E, 0, 0, 0, 0, 0, E, 0, 0, 0, 0, L, C, C,...</td>\n",
       "      <td>[1, 0, 0, 1, 0, 0, 0, 0, 0, 0, 0, 0, 0, 1, 0, ...</td>\n",
       "    </tr>\n",
       "    <tr>\n",
       "      <th>2</th>\n",
       "      <td>géographie générale</td>\n",
       "      <td>Coordonnées géographiques</td>\n",
       "      <td>Par coordonnées géographiques (ou encore « rep...</td>\n",
       "      <td>Par coordonnées géographiques (ou encore « rep...</td>\n",
       "      <td>[100e méridien est, 100e méridien ouest, 101e ...</td>\n",
       "      <td>\\n\\n\\n\\nLa latitude est une valeur angulaire, ...</td>\n",
       "      <td>\\n\\n\\n== Latitude ==\\n\\nLa latitude est une va...</td>\n",
       "      <td>[[0, E, E, 0, 0, 0, 0, 0, 0, E, 0, E, 0, 0, 0,...</td>\n",
       "      <td>[1, 1, 1, 1, 1, 1, 0, 1, 1, 1, 1, 1, 1, 0, 1, ...</td>\n",
       "    </tr>\n",
       "    <tr>\n",
       "      <th>3</th>\n",
       "      <td>géographie générale</td>\n",
       "      <td>Géographie physique</td>\n",
       "      <td>La géographie physique, appelée aussi géograph...</td>\n",
       "      <td>La géographie physique, appelée aussi géograph...</td>\n",
       "      <td>[Afrique, Al Idrissi, Alexander von Humboldt, ...</td>\n",
       "      <td>\\n\\n\\n\\nLa géographie physique englobe plusieu...</td>\n",
       "      <td>\\n\\n\\n== Disciplines ==\\n\\nLa géographie physi...</td>\n",
       "      <td>[[0, E, E, 0, 0, 0, 0, E, 0, 0, 0, 0, 0, 0, 0,...</td>\n",
       "      <td>[1, 1, 1, 0, 0, 0, 0, 0, 0, 0, 1, 0, 0, 0, 0, ...</td>\n",
       "    </tr>\n",
       "    <tr>\n",
       "      <th>4</th>\n",
       "      <td>géographie générale</td>\n",
       "      <td>Géographie vidalienne</td>\n",
       "      <td>Les principes de la géographie vidalienne</td>\n",
       "      <td>Les principes de la géographie vidalienne\\n\\n\\...</td>\n",
       "      <td>[1903, Albert Demangeon, André Cholley, Annale...</td>\n",
       "      <td>\\n\\n\\nPaul Vidal de la Blache (22 janvier 1845...</td>\n",
       "      <td>\\n\\n\\n== Paul Vidal de La Blache ==\\nPaul Vida...</td>\n",
       "      <td>[[L, C, C, R, C, 0, 0, 0, E, 0, 0, 0, E, 0, 0,...</td>\n",
       "      <td>[1, 0, 0, 0, 0, 0, 0, 0, 0, 0, 0, 0, 0, 0, 0, ...</td>\n",
       "    </tr>\n",
       "    <tr>\n",
       "      <th>5</th>\n",
       "      <td>géographie générale</td>\n",
       "      <td>Position (géographie)</td>\n",
       "      <td>La position, en géographie est un point dans l...</td>\n",
       "      <td>La position, en géographie est un point dans l...</td>\n",
       "      <td>[Coordonnées cartésiennes, Coordonnées géograp...</td>\n",
       "      <td>\\n\\n\\nUne position relative est une position p...</td>\n",
       "      <td>\\n\\n\\n== Types de position ==\\nUne position re...</td>\n",
       "      <td>[[0, E, 0, 0, 0, E, 0, 0, 0, 0, 0, E], [0, 0, ...</td>\n",
       "      <td>[1, 1, 1, 0, 1]</td>\n",
       "    </tr>\n",
       "    <tr>\n",
       "      <th>6</th>\n",
       "      <td>géographie générale</td>\n",
       "      <td>Marigot (géographie)</td>\n",
       "      <td>Un marigot est une petite étendue d'eau fermée...</td>\n",
       "      <td>Un marigot est une petite étendue d'eau fermée...</td>\n",
       "      <td>[Afrique subsaharienne, Amazonie, Bayou, Berna...</td>\n",
       "      <td>\\n\\n\\nBernard Nantet, Dictionnaire de l'Afriqu...</td>\n",
       "      <td>\\n\\n\\n== Bibliographie ==\\nBernard Nantet, Dic...</td>\n",
       "      <td>[[R, C, 0, 0, 0], [0, 0, 0, 0, 0, 0, 0, 0, 0, ...</td>\n",
       "      <td>[1, 1]</td>\n",
       "    </tr>\n",
       "    <tr>\n",
       "      <th>7</th>\n",
       "      <td>géographie générale</td>\n",
       "      <td>Géographie de la Bretagne</td>\n",
       "      <td>Cet article décrit la géographie de la Bretagn...</td>\n",
       "      <td>Cet article décrit la géographie de la Bretagn...</td>\n",
       "      <td>[1842, 1968, 1969, 1970, 1er janvier, 2005, 20...</td>\n",
       "      <td>\\n\\n\\n\\n\\nLa péninsule bretonne se situe à l’e...</td>\n",
       "      <td>\\n\\n\\n== Géographie physique ==\\n\\n\\n=== Situa...</td>\n",
       "      <td>[[0, 0, 0, 0, 0, 0, 0, 0, 0, 0, 0, 0, E, 0, 0,...</td>\n",
       "      <td>[1, 1, 1, 1, 1, 1, 1, 1, 1, 0, 1, 0, 0, 0, 0, ...</td>\n",
       "    </tr>\n",
       "    <tr>\n",
       "      <th>8</th>\n",
       "      <td>géographie générale</td>\n",
       "      <td>Géographie de Singapour</td>\n",
       "      <td>Singapour est une cité-État très urbanisée d'A...</td>\n",
       "      <td>Singapour est une cité-État très urbanisée d'A...</td>\n",
       "      <td>[Altitude, Anglais, Années 1960, Années 2030, ...</td>\n",
       "      <td>\\nPulau Ujong, l'ile principale, est en forme ...</td>\n",
       "      <td>\\n== Géographie physique ==\\nPulau Ujong, l'il...</td>\n",
       "      <td>[[R, C, 0, 0, 0, 0, 0, 0, 0, 0, 0, 0, 0, 0, 0,...</td>\n",
       "      <td>[1, 1, 0, 1, 1, 0, 0, 0, 1, 1, 1, 0, 0, 0, 0, ...</td>\n",
       "    </tr>\n",
       "    <tr>\n",
       "      <th>9</th>\n",
       "      <td>géographie générale</td>\n",
       "      <td>Géographie de l'Équateur</td>\n",
       "      <td>L'Équateur est un pays situé en Amérique du Su...</td>\n",
       "      <td>L'Équateur est un pays situé en Amérique du Su...</td>\n",
       "      <td>[Amazone (fleuve), Amérique, Amérique du Sud, ...</td>\n",
       "      <td>\\n\\n\\n\\nSa superficie est de 283 560 km2 dont ...</td>\n",
       "      <td>\\n\\n\\n== Géographie générale du pays ==\\n\\nSa ...</td>\n",
       "      <td>[[0, 0, 0, 0, 0, 0, 0, 0, 0, 0, 0, 0, 0, 0, 0,...</td>\n",
       "      <td>[1, 1, 1, 1, 1, 1, 1, 1, 0, 1, 0, 1, 0, 0, 0, ...</td>\n",
       "    </tr>\n",
       "  </tbody>\n",
       "</table>\n",
       "</div>"
      ],
      "text/plain": [
       "            categories                          titles  \\\n",
       "0  géographie générale                      Géographie   \n",
       "1  géographie générale  Épistémologie de la géographie   \n",
       "2  géographie générale       Coordonnées géographiques   \n",
       "3  géographie générale             Géographie physique   \n",
       "4  géographie générale           Géographie vidalienne   \n",
       "5  géographie générale           Position (géographie)   \n",
       "6  géographie générale            Marigot (géographie)   \n",
       "7  géographie générale       Géographie de la Bretagne   \n",
       "8  géographie générale         Géographie de Singapour   \n",
       "9  géographie générale        Géographie de l'Équateur   \n",
       "\n",
       "                                           summaries  \\\n",
       "0  La géographie (du grec ancien γεωγραφία – geog...   \n",
       "1  Cet article traite de l'épistémologie de la gé...   \n",
       "2  Par coordonnées géographiques (ou encore « rep...   \n",
       "3  La géographie physique, appelée aussi géograph...   \n",
       "4          Les principes de la géographie vidalienne   \n",
       "5  La position, en géographie est un point dans l...   \n",
       "6  Un marigot est une petite étendue d'eau fermée...   \n",
       "7  Cet article décrit la géographie de la Bretagn...   \n",
       "8  Singapour est une cité-État très urbanisée d'A...   \n",
       "9  L'Équateur est un pays situé en Amérique du Su...   \n",
       "\n",
       "                                            contents  \\\n",
       "0  La géographie (du grec ancien γεωγραφία – geog...   \n",
       "1  Cet article traite de l'épistémologie de la gé...   \n",
       "2  Par coordonnées géographiques (ou encore « rep...   \n",
       "3  La géographie physique, appelée aussi géograph...   \n",
       "4  Les principes de la géographie vidalienne\\n\\n\\...   \n",
       "5  La position, en géographie est un point dans l...   \n",
       "6  Un marigot est une petite étendue d'eau fermée...   \n",
       "7  Cet article décrit la géographie de la Bretagn...   \n",
       "8  Singapour est une cité-État très urbanisée d'A...   \n",
       "9  L'Équateur est un pays situé en Amérique du Su...   \n",
       "\n",
       "                                            entities  \\\n",
       "0  [Alain Barré, Alphanumérique, American Geograp...   \n",
       "1  [Aménagement du territoire, Analyse spatiale, ...   \n",
       "2  [100e méridien est, 100e méridien ouest, 101e ...   \n",
       "3  [Afrique, Al Idrissi, Alexander von Humboldt, ...   \n",
       "4  [1903, Albert Demangeon, André Cholley, Annale...   \n",
       "5  [Coordonnées cartésiennes, Coordonnées géograp...   \n",
       "6  [Afrique subsaharienne, Amazonie, Bayou, Berna...   \n",
       "7  [1842, 1968, 1969, 1970, 1er janvier, 2005, 20...   \n",
       "8  [Altitude, Anglais, Années 1960, Années 2030, ...   \n",
       "9  [Amazone (fleuve), Amérique, Amérique du Sud, ...   \n",
       "\n",
       "                                       flat_contents  \\\n",
       "0  \\n\\n\\n\\nLa première personne à utiliser le mot...   \n",
       "1  \\n\\n\\nLa géographie classique française est ég...   \n",
       "2  \\n\\n\\n\\nLa latitude est une valeur angulaire, ...   \n",
       "3  \\n\\n\\n\\nLa géographie physique englobe plusieu...   \n",
       "4  \\n\\n\\nPaul Vidal de la Blache (22 janvier 1845...   \n",
       "5  \\n\\n\\nUne position relative est une position p...   \n",
       "6  \\n\\n\\nBernard Nantet, Dictionnaire de l'Afriqu...   \n",
       "7  \\n\\n\\n\\n\\nLa péninsule bretonne se situe à l’e...   \n",
       "8  \\nPulau Ujong, l'ile principale, est en forme ...   \n",
       "9  \\n\\n\\n\\nSa superficie est de 283 560 km2 dont ...   \n",
       "\n",
       "                                      trunc_contents  \\\n",
       "0  \\n\\n\\n== Évolution et étendue de la notion de ...   \n",
       "1  \\n\\n\\n== La Géographie vidalienne ou géographi...   \n",
       "2  \\n\\n\\n== Latitude ==\\n\\nLa latitude est une va...   \n",
       "3  \\n\\n\\n== Disciplines ==\\n\\nLa géographie physi...   \n",
       "4  \\n\\n\\n== Paul Vidal de La Blache ==\\nPaul Vida...   \n",
       "5  \\n\\n\\n== Types de position ==\\nUne position re...   \n",
       "6  \\n\\n\\n== Bibliographie ==\\nBernard Nantet, Dic...   \n",
       "7  \\n\\n\\n== Géographie physique ==\\n\\n\\n=== Situa...   \n",
       "8  \\n== Géographie physique ==\\nPulau Ujong, l'il...   \n",
       "9  \\n\\n\\n== Géographie générale du pays ==\\n\\nSa ...   \n",
       "\n",
       "                                     labels_entities  \\\n",
       "0  [[0, 0, 0, 0, 0, 0, 0, 0, 0, 0, 0, E, 0, 0], [...   \n",
       "1  [[0, E, 0, 0, 0, 0, 0, E, 0, 0, 0, 0, L, C, C,...   \n",
       "2  [[0, E, E, 0, 0, 0, 0, 0, 0, E, 0, E, 0, 0, 0,...   \n",
       "3  [[0, E, E, 0, 0, 0, 0, E, 0, 0, 0, 0, 0, 0, 0,...   \n",
       "4  [[L, C, C, R, C, 0, 0, 0, E, 0, 0, 0, E, 0, 0,...   \n",
       "5  [[0, E, 0, 0, 0, E, 0, 0, 0, 0, 0, E], [0, 0, ...   \n",
       "6  [[R, C, 0, 0, 0], [0, 0, 0, 0, 0, 0, 0, 0, 0, ...   \n",
       "7  [[0, 0, 0, 0, 0, 0, 0, 0, 0, 0, 0, 0, E, 0, 0,...   \n",
       "8  [[R, C, 0, 0, 0, 0, 0, 0, 0, 0, 0, 0, 0, 0, 0,...   \n",
       "9  [[0, 0, 0, 0, 0, 0, 0, 0, 0, 0, 0, 0, 0, 0, 0,...   \n",
       "\n",
       "                                    labels_sentences  \n",
       "0  [1, 1, 1, 1, 1, 1, 1, 1, 0, 1, 1, 1, 1, 1, 0, ...  \n",
       "1  [1, 0, 0, 1, 0, 0, 0, 0, 0, 0, 0, 0, 0, 1, 0, ...  \n",
       "2  [1, 1, 1, 1, 1, 1, 0, 1, 1, 1, 1, 1, 1, 0, 1, ...  \n",
       "3  [1, 1, 1, 0, 0, 0, 0, 0, 0, 0, 1, 0, 0, 0, 0, ...  \n",
       "4  [1, 0, 0, 0, 0, 0, 0, 0, 0, 0, 0, 0, 0, 0, 0, ...  \n",
       "5                                    [1, 1, 1, 0, 1]  \n",
       "6                                             [1, 1]  \n",
       "7  [1, 1, 1, 1, 1, 1, 1, 1, 1, 0, 1, 0, 0, 0, 0, ...  \n",
       "8  [1, 1, 0, 1, 1, 0, 0, 0, 1, 1, 1, 0, 0, 0, 0, ...  \n",
       "9  [1, 1, 1, 1, 1, 1, 1, 1, 0, 1, 0, 1, 0, 0, 0, ...  "
      ]
     },
     "execution_count": 37,
     "metadata": {},
     "output_type": "execute_result"
    }
   ],
   "source": [
    "df.head(10)"
   ]
  },
  {
   "cell_type": "code",
   "execution_count": null,
   "metadata": {},
   "outputs": [],
   "source": []
  }
 ],
 "metadata": {
  "kernelspec": {
   "display_name": "Python 3",
   "language": "python",
   "name": "python3"
  },
  "language_info": {
   "codemirror_mode": {
    "name": "ipython",
    "version": 3
   },
   "file_extension": ".py",
   "mimetype": "text/x-python",
   "name": "python",
   "nbconvert_exporter": "python",
   "pygments_lexer": "ipython3",
   "version": "3.11.4"
  },
  "orig_nbformat": 4,
  "vscode": {
   "interpreter": {
    "hash": "916dbcbb3f70747c44a77c7bcd40155683ae19c65e1c03b4aa3499c5328201f1"
   }
  }
 },
 "nbformat": 4,
 "nbformat_minor": 2
}
