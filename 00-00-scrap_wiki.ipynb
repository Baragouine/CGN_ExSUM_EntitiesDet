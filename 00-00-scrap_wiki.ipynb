{
 "cells": [
  {
   "attachments": {},
   "cell_type": "markdown",
   "metadata": {},
   "source": [
    "# Scrap geo wiki page"
   ]
  },
  {
   "cell_type": "code",
   "execution_count": 1,
   "metadata": {},
   "outputs": [],
   "source": [
    "import wikipedia\n",
    "import mwclient\n",
    "import threading\n",
    "import pandas as pd\n",
    "import os"
   ]
  },
  {
   "cell_type": "code",
   "execution_count": 2,
   "metadata": {},
   "outputs": [],
   "source": [
    "NB_THREADS_BY_CAT = 40"
   ]
  },
  {
   "cell_type": "code",
   "execution_count": 3,
   "metadata": {},
   "outputs": [],
   "source": [
    "wikipedia.set_lang(\"fr\")\n",
    "site = mwclient.Site('fr.wikipedia.org')"
   ]
  },
  {
   "cell_type": "code",
   "execution_count": 4,
   "metadata": {},
   "outputs": [],
   "source": [
    "if not os.path.exists(\"data\"):\n",
    "  os.makedirs(\"data\")"
   ]
  },
  {
   "cell_type": "code",
   "execution_count": 5,
   "metadata": {},
   "outputs": [],
   "source": [
    "def scrap_page(title, i, results):\n",
    "  try:\n",
    "    wiki = wikipedia.page(title)\n",
    "    summary = wiki.summary\n",
    "    content = wiki.content\n",
    "    entities = wiki.links\n",
    "    results[i] = (title, summary, content, entities)\n",
    "  except:\n",
    "    pass\n",
    "\n",
    "  #print(title)\n",
    "  #print(summary)\n",
    "  #print(content)\n",
    "  #print(entities)"
   ]
  },
  {
   "cell_type": "code",
   "execution_count": 6,
   "metadata": {},
   "outputs": [],
   "source": [
    "def scrap_pages(titles, first, last, results):\n",
    "  for i in range(first, last):\n",
    "    if i < len(titles):\n",
    "      scrap_page(titles[i], i, results)"
   ]
  },
  {
   "cell_type": "code",
   "execution_count": 7,
   "metadata": {},
   "outputs": [],
   "source": [
    "def scrap_category(site, category):  \n",
    "  pages = site.search(category, namespace=0)\n",
    "  titles = [page['title'] for page in pages]\n",
    "\n",
    "  categories = [category] * len(titles)\n",
    "  summaries = [None] * len(titles)\n",
    "  contents = [None] * len(titles)\n",
    "  entities = [None] * len(titles)\n",
    "  \n",
    "  results = [None] * len(titles)\n",
    "\n",
    "  threads = []\n",
    "\n",
    "  # Create threads\n",
    "  step = len(titles) // NB_THREADS_BY_CAT\n",
    "  i = 0\n",
    "  while i < len(titles):\n",
    "    thread = threading.Thread(target=scrap_pages, args=(titles, i, i + step, results))\n",
    "    threads.append(thread)\n",
    "    i += step\n",
    "\n",
    "  # start threads\n",
    "  for thread in threads:\n",
    "    thread.start()\n",
    "\n",
    "  # join\n",
    "  for thread in threads:\n",
    "    thread.join()\n",
    "\n",
    "  # collect\n",
    "  for i in range(len(results)):\n",
    "    if results[i] is not None:\n",
    "      titles[i], summaries[i], contents[i], entities[i] = results[i]\n",
    "\n",
    "  return categories, titles, summaries, contents, entities"
   ]
  },
  {
   "cell_type": "code",
   "execution_count": 8,
   "metadata": {},
   "outputs": [],
   "source": [
    "CATEGORIES = [\"géographie générale\", 'architecture urbanisme', 'géologie']"
   ]
  },
  {
   "cell_type": "code",
   "execution_count": 9,
   "metadata": {},
   "outputs": [],
   "source": [
    "categories = []\n",
    "titles = []\n",
    "summaries = []\n",
    "contents = []\n",
    "entities = []"
   ]
  },
  {
   "cell_type": "code",
   "execution_count": 10,
   "metadata": {},
   "outputs": [
    {
     "name": "stderr",
     "output_type": "stream",
     "text": [
      "/home/raoufdine/anaconda3/lib/python3.9/site-packages/wikipedia/wikipedia.py:389: GuessedAtParserWarning: No parser was explicitly specified, so I'm using the best available HTML parser for this system (\"lxml\"). This usually isn't a problem, but if you run this code on another system, or in a different virtual environment, it may use a different parser and behave differently.\n",
      "\n",
      "The code that caused this warning is on line 389 of the file /home/raoufdine/anaconda3/lib/python3.9/site-packages/wikipedia/wikipedia.py. To get rid of this warning, pass the additional argument 'features=\"lxml\"' to the BeautifulSoup constructor.\n",
      "\n",
      "  lis = BeautifulSoup(html).find_all('li')\n"
     ]
    }
   ],
   "source": [
    "for category in CATEGORIES:\n",
    "  cats, tits, sums, conts, entis = scrap_category(site, category)\n",
    "  categories, titles, summaries, contents, entities\n",
    "  \n",
    "  categories = categories + cats\n",
    "  titles = titles + tits\n",
    "  summaries = summaries + sums\n",
    "  contents = contents + conts\n",
    "  entities = entities + entis"
   ]
  },
  {
   "cell_type": "code",
   "execution_count": 11,
   "metadata": {},
   "outputs": [],
   "source": [
    "df = pd.DataFrame({\"categories\": categories, \"titles\": titles, \"summaries\": summaries, \"contents\": contents, \"entities\": entities})"
   ]
  },
  {
   "cell_type": "code",
   "execution_count": 12,
   "metadata": {},
   "outputs": [],
   "source": [
    "df.to_json(\"./data/wiki_geo.json\")"
   ]
  },
  {
   "cell_type": "code",
   "execution_count": 13,
   "metadata": {},
   "outputs": [
    {
     "data": {
      "text/html": [
       "<div>\n",
       "<style scoped>\n",
       "    .dataframe tbody tr th:only-of-type {\n",
       "        vertical-align: middle;\n",
       "    }\n",
       "\n",
       "    .dataframe tbody tr th {\n",
       "        vertical-align: top;\n",
       "    }\n",
       "\n",
       "    .dataframe thead th {\n",
       "        text-align: right;\n",
       "    }\n",
       "</style>\n",
       "<table border=\"1\" class=\"dataframe\">\n",
       "  <thead>\n",
       "    <tr style=\"text-align: right;\">\n",
       "      <th></th>\n",
       "      <th>categories</th>\n",
       "      <th>titles</th>\n",
       "      <th>summaries</th>\n",
       "      <th>contents</th>\n",
       "      <th>entities</th>\n",
       "    </tr>\n",
       "  </thead>\n",
       "  <tbody>\n",
       "    <tr>\n",
       "      <th>0</th>\n",
       "      <td>géographie générale</td>\n",
       "      <td>Géographie</td>\n",
       "      <td>La géographie (du grec ancien γεωγραφία – geog...</td>\n",
       "      <td>La géographie (du grec ancien γεωγραφία – geog...</td>\n",
       "      <td>[Alain Barré, Alphanumérique, American Geograp...</td>\n",
       "    </tr>\n",
       "    <tr>\n",
       "      <th>1</th>\n",
       "      <td>géographie générale</td>\n",
       "      <td>Épistémologie de la géographie</td>\n",
       "      <td>Cet article traite de l'épistémologie de la gé...</td>\n",
       "      <td>Cet article traite de l'épistémologie de la gé...</td>\n",
       "      <td>[Aménagement du territoire, Analyse spatiale, ...</td>\n",
       "    </tr>\n",
       "    <tr>\n",
       "      <th>2</th>\n",
       "      <td>géographie générale</td>\n",
       "      <td>Coordonnées géographiques</td>\n",
       "      <td>Par coordonnées géographiques (ou encore « rep...</td>\n",
       "      <td>Par coordonnées géographiques (ou encore « rep...</td>\n",
       "      <td>[100e méridien est, 100e méridien ouest, 101e ...</td>\n",
       "    </tr>\n",
       "    <tr>\n",
       "      <th>3</th>\n",
       "      <td>géographie générale</td>\n",
       "      <td>Géographie physique</td>\n",
       "      <td>La géographie physique, appelée aussi géograph...</td>\n",
       "      <td>La géographie physique, appelée aussi géograph...</td>\n",
       "      <td>[Afrique, Al Idrissi, Alexander von Humboldt, ...</td>\n",
       "    </tr>\n",
       "    <tr>\n",
       "      <th>4</th>\n",
       "      <td>géographie générale</td>\n",
       "      <td>Géographie vidalienne</td>\n",
       "      <td>Les principes de la géographie vidalienne</td>\n",
       "      <td>Les principes de la géographie vidalienne\\n\\n\\...</td>\n",
       "      <td>[1903, Albert Demangeon, André Cholley, Annale...</td>\n",
       "    </tr>\n",
       "    <tr>\n",
       "      <th>5</th>\n",
       "      <td>géographie générale</td>\n",
       "      <td>Position (géographie)</td>\n",
       "      <td>La position, en géographie est un point dans l...</td>\n",
       "      <td>La position, en géographie est un point dans l...</td>\n",
       "      <td>[Coordonnées cartésiennes, Coordonnées géograp...</td>\n",
       "    </tr>\n",
       "    <tr>\n",
       "      <th>6</th>\n",
       "      <td>géographie générale</td>\n",
       "      <td>Marigot (géographie)</td>\n",
       "      <td>Un marigot est une petite étendue d'eau fermée...</td>\n",
       "      <td>Un marigot est une petite étendue d'eau fermée...</td>\n",
       "      <td>[Afrique subsaharienne, Amazonie, Bayou, Berna...</td>\n",
       "    </tr>\n",
       "    <tr>\n",
       "      <th>7</th>\n",
       "      <td>géographie générale</td>\n",
       "      <td>Géographie de la Bretagne</td>\n",
       "      <td>Cet article décrit la géographie de la Bretagn...</td>\n",
       "      <td>Cet article décrit la géographie de la Bretagn...</td>\n",
       "      <td>[1842, 1968, 1969, 1970, 1er janvier, 2005, 20...</td>\n",
       "    </tr>\n",
       "    <tr>\n",
       "      <th>8</th>\n",
       "      <td>géographie générale</td>\n",
       "      <td>Géographie de Singapour</td>\n",
       "      <td>Singapour est une cité-État très urbanisée d'A...</td>\n",
       "      <td>Singapour est une cité-État très urbanisée d'A...</td>\n",
       "      <td>[Altitude, Anglais, Années 1960, Années 2030, ...</td>\n",
       "    </tr>\n",
       "    <tr>\n",
       "      <th>9</th>\n",
       "      <td>géographie générale</td>\n",
       "      <td>Géographie de l'Équateur</td>\n",
       "      <td>L'Équateur est un pays situé en Amérique du Su...</td>\n",
       "      <td>L'Équateur est un pays situé en Amérique du Su...</td>\n",
       "      <td>[Amazone (fleuve), Amérique, Amérique du Sud, ...</td>\n",
       "    </tr>\n",
       "  </tbody>\n",
       "</table>\n",
       "</div>"
      ],
      "text/plain": [
       "            categories                          titles  \\\n",
       "0  géographie générale                      Géographie   \n",
       "1  géographie générale  Épistémologie de la géographie   \n",
       "2  géographie générale       Coordonnées géographiques   \n",
       "3  géographie générale             Géographie physique   \n",
       "4  géographie générale           Géographie vidalienne   \n",
       "5  géographie générale           Position (géographie)   \n",
       "6  géographie générale            Marigot (géographie)   \n",
       "7  géographie générale       Géographie de la Bretagne   \n",
       "8  géographie générale         Géographie de Singapour   \n",
       "9  géographie générale        Géographie de l'Équateur   \n",
       "\n",
       "                                           summaries  \\\n",
       "0  La géographie (du grec ancien γεωγραφία – geog...   \n",
       "1  Cet article traite de l'épistémologie de la gé...   \n",
       "2  Par coordonnées géographiques (ou encore « rep...   \n",
       "3  La géographie physique, appelée aussi géograph...   \n",
       "4          Les principes de la géographie vidalienne   \n",
       "5  La position, en géographie est un point dans l...   \n",
       "6  Un marigot est une petite étendue d'eau fermée...   \n",
       "7  Cet article décrit la géographie de la Bretagn...   \n",
       "8  Singapour est une cité-État très urbanisée d'A...   \n",
       "9  L'Équateur est un pays situé en Amérique du Su...   \n",
       "\n",
       "                                            contents  \\\n",
       "0  La géographie (du grec ancien γεωγραφία – geog...   \n",
       "1  Cet article traite de l'épistémologie de la gé...   \n",
       "2  Par coordonnées géographiques (ou encore « rep...   \n",
       "3  La géographie physique, appelée aussi géograph...   \n",
       "4  Les principes de la géographie vidalienne\\n\\n\\...   \n",
       "5  La position, en géographie est un point dans l...   \n",
       "6  Un marigot est une petite étendue d'eau fermée...   \n",
       "7  Cet article décrit la géographie de la Bretagn...   \n",
       "8  Singapour est une cité-État très urbanisée d'A...   \n",
       "9  L'Équateur est un pays situé en Amérique du Su...   \n",
       "\n",
       "                                            entities  \n",
       "0  [Alain Barré, Alphanumérique, American Geograp...  \n",
       "1  [Aménagement du territoire, Analyse spatiale, ...  \n",
       "2  [100e méridien est, 100e méridien ouest, 101e ...  \n",
       "3  [Afrique, Al Idrissi, Alexander von Humboldt, ...  \n",
       "4  [1903, Albert Demangeon, André Cholley, Annale...  \n",
       "5  [Coordonnées cartésiennes, Coordonnées géograp...  \n",
       "6  [Afrique subsaharienne, Amazonie, Bayou, Berna...  \n",
       "7  [1842, 1968, 1969, 1970, 1er janvier, 2005, 20...  \n",
       "8  [Altitude, Anglais, Années 1960, Années 2030, ...  \n",
       "9  [Amazone (fleuve), Amérique, Amérique du Sud, ...  "
      ]
     },
     "execution_count": 13,
     "metadata": {},
     "output_type": "execute_result"
    }
   ],
   "source": [
    "df.head(10)"
   ]
  },
  {
   "cell_type": "code",
   "execution_count": 14,
   "metadata": {},
   "outputs": [
    {
     "data": {
      "text/plain": [
       "(30000, 5)"
      ]
     },
     "execution_count": 14,
     "metadata": {},
     "output_type": "execute_result"
    }
   ],
   "source": [
    "df.shape"
   ]
  },
  {
   "cell_type": "code",
   "execution_count": 15,
   "metadata": {},
   "outputs": [
    {
     "data": {
      "text/plain": [
       "categories      0\n",
       "titles          0\n",
       "summaries     785\n",
       "contents      785\n",
       "entities      785\n",
       "dtype: int64"
      ]
     },
     "execution_count": 15,
     "metadata": {},
     "output_type": "execute_result"
    }
   ],
   "source": [
    "df.isnull().sum()"
   ]
  },
  {
   "cell_type": "code",
   "execution_count": 16,
   "metadata": {},
   "outputs": [
    {
     "name": "stderr",
     "output_type": "stream",
     "text": [
      "/tmp/ipykernel_950170/4114817568.py:1: FutureWarning: The pandas.np module is deprecated and will be removed from pandas in a future version. Import numpy directly instead.\n",
      "  df.fillna(value=pd.np.nan, inplace=True)\n"
     ]
    }
   ],
   "source": [
    "df.fillna(value=pd.np.nan, inplace=True)"
   ]
  },
  {
   "cell_type": "code",
   "execution_count": 17,
   "metadata": {},
   "outputs": [],
   "source": [
    "df.dropna(inplace=True)"
   ]
  },
  {
   "cell_type": "code",
   "execution_count": 18,
   "metadata": {},
   "outputs": [
    {
     "data": {
      "text/plain": [
       "categories    0\n",
       "titles        0\n",
       "summaries     0\n",
       "contents      0\n",
       "entities      0\n",
       "dtype: int64"
      ]
     },
     "execution_count": 18,
     "metadata": {},
     "output_type": "execute_result"
    }
   ],
   "source": [
    "df.isnull().sum()"
   ]
  },
  {
   "cell_type": "code",
   "execution_count": 19,
   "metadata": {},
   "outputs": [
    {
     "data": {
      "text/plain": [
       "(29215, 5)"
      ]
     },
     "execution_count": 19,
     "metadata": {},
     "output_type": "execute_result"
    }
   ],
   "source": [
    "df.shape"
   ]
  },
  {
   "cell_type": "code",
   "execution_count": null,
   "metadata": {},
   "outputs": [],
   "source": []
  }
 ],
 "metadata": {
  "kernelspec": {
   "display_name": "base",
   "language": "python",
   "name": "python3"
  },
  "language_info": {
   "codemirror_mode": {
    "name": "ipython",
    "version": 3
   },
   "file_extension": ".py",
   "mimetype": "text/x-python",
   "name": "python",
   "nbconvert_exporter": "python",
   "pygments_lexer": "ipython3",
   "version": "3.9.13"
  },
  "orig_nbformat": 4,
  "vscode": {
   "interpreter": {
    "hash": "4f810f0bde7d7b5dc90f9e6832822547e13e234c53731a97fc91254323942f40"
   }
  }
 },
 "nbformat": 4,
 "nbformat_minor": 2
}
