{
 "cells": [
  {
   "cell_type": "code",
   "execution_count": null,
   "metadata": {},
   "outputs": [],
   "source": [
    "import pandas as pd\n",
    "from sklearn.utils import shuffle\n",
    "import os"
   ]
  },
  {
   "cell_type": "code",
   "execution_count": null,
   "metadata": {},
   "outputs": [],
   "source": [
    "dfs_name = [\"wiki_geo_ratio_sc_0.5\", \"wiki_geo_low_25\", \"wiki_geo_high_25\"]"
   ]
  },
  {
   "cell_type": "code",
   "execution_count": null,
   "metadata": {},
   "outputs": [],
   "source": [
    "dfs = [pd.read_json(\"data/\" + name + \".json\") for name in dfs_name]"
   ]
  },
  {
   "cell_type": "code",
   "execution_count": null,
   "metadata": {},
   "outputs": [],
   "source": [
    "for name in dfs_name:\n",
    "    df = pd.read_json(\"data/\" + name + \".json\")\n",
    "    df = shuffle(df, random_state=0)\n",
    "\n",
    "    df_test = df.iloc[0:1000]\n",
    "    df_val = df.iloc[1000:2000]\n",
    "    df_train = df.iloc[1000:]\n",
    "\n",
    "    base_dir = \"data/\" + name\n",
    "\n",
    "    if not os.path.exists(base_dir):\n",
    "        os.makedirs(base_dir)\n",
    "\n",
    "    df_train.to_json(base_dir + \"/train.json\")\n",
    "    df_val.to_json(base_dir + \"/val.json\")\n",
    "    df_test.to_json(base_dir + \"/test.json\")"
   ]
  }
 ],
 "metadata": {
  "language_info": {
   "name": "python"
  },
  "orig_nbformat": 4
 },
 "nbformat": 4,
 "nbformat_minor": 2
}
