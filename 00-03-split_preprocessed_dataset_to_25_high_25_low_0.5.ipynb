{
 "cells": [
  {
   "cell_type": "code",
   "execution_count": 1,
   "metadata": {},
   "outputs": [],
   "source": [
    "import pandas as pd\n",
    "import numpy as np"
   ]
  },
  {
   "cell_type": "code",
   "execution_count": 2,
   "metadata": {},
   "outputs": [],
   "source": [
    "def compute_ratio(sums, contents):\n",
    "  ratios = []\n",
    "\n",
    "  for i in range(len(sums)):\n",
    "    ratios.append(len(sums[i]) / len(contents[i]))\n",
    "\n",
    "  return np.mean(ratios), np.std(ratios)"
   ]
  },
  {
   "cell_type": "code",
   "execution_count": null,
   "metadata": {},
   "outputs": [],
   "source": [
    "df = pd.read_json(\"data/wiki_geo_preprocessed.json\")"
   ]
  },
  {
   "cell_type": "code",
   "execution_count": null,
   "metadata": {},
   "outputs": [],
   "source": [
    "df = df.reset_index(drop=True)"
   ]
  },
  {
   "cell_type": "code",
   "execution_count": null,
   "metadata": {},
   "outputs": [],
   "source": [
    "def ratios(sums, contents):\n",
    "  ratios = []\n",
    "\n",
    "  for i in range(len(sums)):\n",
    "    ratios.append(len(sums[i]) / len(contents[i]))\n",
    "\n",
    "  return ratios"
   ]
  },
  {
   "cell_type": "code",
   "execution_count": null,
   "metadata": {},
   "outputs": [],
   "source": [
    "lratio = np.array(ratios(df[\"summaries\"].tolist(), df[\"flat_contents\"].tolist()))"
   ]
  },
  {
   "cell_type": "code",
   "execution_count": null,
   "metadata": {},
   "outputs": [],
   "source": [
    "df_normal_wiki = df.iloc[df.index[lratio <= 0.5]]\n",
    "df_normal_wiki.shape"
   ]
  },
  {
   "cell_type": "code",
   "execution_count": null,
   "metadata": {},
   "outputs": [],
   "source": [
    "df_normal_wiki.to_json(\"./data/wiki_geo_ratio_sc_0.5.json\")"
   ]
  },
  {
   "cell_type": "code",
   "execution_count": null,
   "metadata": {},
   "outputs": [],
   "source": [
    "argsortlratio = np.argsort(lratio)\n",
    "df_wiki_low_25 = df.iloc[argsortlratio[:int(len(argsortlratio) * 0.25)]]\n",
    "df_wiki_low_25.shape"
   ]
  },
  {
   "cell_type": "code",
   "execution_count": null,
   "metadata": {},
   "outputs": [],
   "source": [
    "df_wiki_low_25.to_json(\"./data/wiki_geo_low_25.json\")"
   ]
  },
  {
   "cell_type": "code",
   "execution_count": null,
   "metadata": {},
   "outputs": [],
   "source": [
    "argsortlratio = np.argsort(lratio)[::-1]\n",
    "df_wiki_high_25 = df.iloc[argsortlratio[:int(len(argsortlratio) * 0.25)]]\n",
    "df_wiki_high_25.shape"
   ]
  },
  {
   "cell_type": "code",
   "execution_count": null,
   "metadata": {},
   "outputs": [],
   "source": [
    "df_wiki_high_25.to_json(\"./data/wiki_geo_high_25.json\")"
   ]
  }
 ],
 "metadata": {
  "kernelspec": {
   "display_name": "base",
   "language": "python",
   "name": "python3"
  },
  "language_info": {
   "codemirror_mode": {
    "name": "ipython",
    "version": 3
   },
   "file_extension": ".py",
   "mimetype": "text/x-python",
   "name": "python",
   "nbconvert_exporter": "python",
   "pygments_lexer": "ipython3",
   "version": "3.9.13"
  },
  "orig_nbformat": 4
 },
 "nbformat": 4,
 "nbformat_minor": 2
}
